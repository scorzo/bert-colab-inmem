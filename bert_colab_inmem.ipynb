{
  "nbformat": 4,
  "nbformat_minor": 0,
  "metadata": {
    "colab": {
      "provenance": [],
      "authorship_tag": "ABX9TyN/RAPiy8B7pPKxZu53thbS",
      "include_colab_link": true
    },
    "kernelspec": {
      "name": "python3",
      "display_name": "Python 3"
    },
    "language_info": {
      "name": "python"
    }
  },
  "cells": [
    {
      "cell_type": "markdown",
      "metadata": {
        "id": "view-in-github",
        "colab_type": "text"
      },
      "source": [
        "<a href=\"https://colab.research.google.com/github/scorzo/bert-colab-inmem/blob/main/bert_colab_inmem.ipynb\" target=\"_parent\"><img src=\"https://colab.research.google.com/assets/colab-badge.svg\" alt=\"Open In Colab\"/></a>"
      ]
    },
    {
      "cell_type": "code",
      "execution_count": null,
      "metadata": {
        "id": "-xE5tkrE2Tev"
      },
      "outputs": [],
      "source": [
        "!pip install langchain flask transformers torch pandas"
      ]
    },
    {
      "cell_type": "code",
      "source": [
        "from langchain.vectorstores import Chroma\n",
        "from flask import Flask, request, jsonify\n",
        "from transformers import BertModel, BertTokenizer\n",
        "import torch\n",
        "import pandas as pd\n",
        "\n",
        "# Initialize Flask app\n",
        "app = Flask(__name__)\n",
        "\n",
        "# Load pre-trained BERT model and tokenizer\n",
        "model_name = 'bert-base-uncased'\n",
        "tokenizer = BertTokenizer.from_pretrained(model_name)\n",
        "model = BertModel.from_pretrained(model_name)\n",
        "\n",
        "# Initialize Chroma vector store\n",
        "chroma = Chroma()\n",
        "\n",
        "# Function to generate embeddings\n",
        "def generate_embeddings(text):\n",
        "    inputs = tokenizer(text, return_tensors='pt', truncation=True, max_length=512)\n",
        "    outputs = model(**inputs)\n",
        "    return outputs.last_hidden_state.mean(dim=1).detach().numpy()[0]\n",
        "\n",
        "# Function to store ticket in Chroma\n",
        "def store_ticket(ticket_id, issue_description, embedding):\n",
        "    chroma.add(ticket_id, embedding)\n",
        "    return ticket_id\n",
        "\n",
        "# REST API to create embeddings for a ticket and store it\n",
        "@app.route('/create_ticket', methods=['POST'])\n",
        "def create_ticket():\n",
        "    data = request.json\n",
        "    issue_description = data['Detailed Description']\n",
        "    embedding = generate_embeddings(issue_description)\n",
        "    ticket_id = data['Ticket ID']\n",
        "\n",
        "    # Store in Chroma\n",
        "    store_ticket(ticket_id, issue_description, embedding)\n",
        "    return jsonify({\"ticket_id\": ticket_id})\n",
        "\n",
        "# Function to find similar tickets using Chroma\n",
        "def find_similar_tickets(query_embedding):\n",
        "    similar_tickets = chroma.get_nns_by_vector(query_embedding, 1)\n",
        "    return similar_tickets[0] if similar_tickets else None\n",
        "\n",
        "# REST API to query similar tickets\n",
        "@app.route('/query_tickets', methods=['POST'])\n",
        "def query_tickets():\n",
        "    query = request.json['query']\n",
        "    query_embedding = generate_embeddings(query)\n",
        "\n",
        "    # Find similar tickets\n",
        "    similar_ticket = find_similar_tickets(query_embedding)\n",
        "    return jsonify({\"similar_ticket\": similar_ticket})\n",
        "\n",
        "def read_tickets_from_csv(file_path):\n",
        "    df = pd.read_csv(file_path)\n",
        "    return df.to_dict(orient='records')\n",
        "\n",
        "def process_ticket(ticket_id, issue_description):\n",
        "    embedding = generate_embeddings(issue_description)\n",
        "    return store_ticket(ticket_id, issue_description, embedding)\n",
        "\n",
        "def process_all_tickets(file_path):\n",
        "    tickets = read_tickets_from_csv(file_path)\n",
        "    for ticket in tickets:\n",
        "        ticket_id = ticket['Ticket ID']\n",
        "        description = ticket['Support Issue Description']\n",
        "        process_ticket(ticket_id, description)\n",
        "\n",
        "if __name__ == '__main__':\n",
        "    # app.run(debug=True)\n",
        "    csv_file_path = './content/sample_data/support_tickets.csv' # path to CSV file\n",
        "    process_all_tickets(csv_file_path)\n"
      ],
      "metadata": {
        "id": "xFXpYmq62YnC"
      },
      "execution_count": null,
      "outputs": []
    }
  ]
}